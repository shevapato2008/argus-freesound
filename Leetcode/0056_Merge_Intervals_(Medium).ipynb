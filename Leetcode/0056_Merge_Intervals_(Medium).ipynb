{
  "nbformat": 4,
  "nbformat_minor": 0,
  "metadata": {
    "colab": {
      "provenance": [],
      "authorship_tag": "ABX9TyPafD4EM3qkr66nMuIytRz8",
      "include_colab_link": true
    },
    "kernelspec": {
      "name": "python3",
      "display_name": "Python 3"
    },
    "language_info": {
      "name": "python"
    }
  },
  "cells": [
    {
      "cell_type": "markdown",
      "metadata": {
        "id": "view-in-github",
        "colab_type": "text"
      },
      "source": [
        "<a href=\"https://colab.research.google.com/github/shevapato2008/argus-freesound/blob/master/Leetcode/0056_Merge_Intervals_(Medium).ipynb\" target=\"_parent\"><img src=\"https://colab.research.google.com/assets/colab-badge.svg\" alt=\"Open In Colab\"/></a>"
      ]
    },
    {
      "cell_type": "markdown",
      "source": [
        "# Method 1: sorting, $T(n) = O(n \\log n), S(n) = O(1)$\n",
        "---"
      ],
      "metadata": {
        "id": "uG3zX7a-cNwr"
      }
    },
    {
      "cell_type": "markdown",
      "source": [
        "reference:\n",
        "* https://www.youtube.com/watch?v=uiOq8TO5CbE&list=PLH_ZFS7tFxk68-1kLMFL9oUqnFnVMY56U&index=180"
      ],
      "metadata": {
        "id": "-QytiM49ccsp"
      }
    },
    {
      "cell_type": "markdown",
      "source": [
        "## c++"
      ],
      "metadata": {
        "id": "CMnt05lecfoW"
      }
    },
    {
      "cell_type": "markdown",
      "source": [
        "```cpp\n",
        "class Solution {\n",
        "public:\n",
        "    vector<vector<int>> merge(vector<vector<int>>& intervals) {\n",
        "        // edge case\n",
        "        if (intervals.size() <= 1) return intervals;\n",
        "\n",
        "        // sort by first elements in ascending order\n",
        "        sort(intervals.begin(), intervals.end());\n",
        "        // auto compare = [](const vector<int>& a, const vector<int>& b){\n",
        "        //     return a[0] < b[0];\n",
        "        // };\n",
        "        // sort(intervals.begin(), intervals.end(), compare);\n",
        "\n",
        "        // merge intervals\n",
        "        vector<vector<int>> res;\n",
        "        vector<int>& curr = intervals[0];\n",
        "        for (int i = 1; i < intervals.size(); ++i)\n",
        "        {\n",
        "            if (intervals[i][0] > curr[1])\n",
        "            {\n",
        "                // push curr into result\n",
        "                res.push_back(curr);\n",
        "                curr = intervals[i];\n",
        "            }\n",
        "            else\n",
        "            {\n",
        "                // merge by updating curr upper bound\n",
        "                curr[1] = max(curr[1], intervals[i][1]);\n",
        "            }\n",
        "        }\n",
        "        // attention: add the final curr interval outside the loop\n",
        "        res.push_back(curr);\n",
        "\n",
        "        return res;\n",
        "    }\n",
        "};\n",
        "```\n",
        "```\n",
        "Runtime: 55 ms, faster than 51.25% of C++ online submissions for Merge Intervals.\n",
        "Memory Usage: 19.1 MB, less than 66.45% of C++ online submissions for Merge Intervals.\n",
        "```"
      ],
      "metadata": {
        "id": "7zrP8wnHchL2"
      }
    },
    {
      "cell_type": "markdown",
      "source": [
        "more compact way to write it\n",
        "* https://leetcode.com/problems/merge-intervals/discuss/482195/C%2B%2B-9-lines-99-Run-Time-Easy-to-understand-solution"
      ],
      "metadata": {
        "id": "WohCnLzDcoVC"
      }
    },
    {
      "cell_type": "markdown",
      "source": [
        "```c++\n",
        "class Solution {\n",
        "public:\n",
        "    vector<vector<int>> merge(vector<vector<int>>& intervals) {\n",
        "        // edge case\n",
        "        if (intervals.size() <= 1)\n",
        "            return intervals;\n",
        "        \n",
        "        // sorting\n",
        "        sort(intervals.begin(), intervals.end());\n",
        "        \n",
        "        // merge\n",
        "        vector<vector<int>> ans;\n",
        "        ans.push_back(intervals[0]);\n",
        "        for (int i = 1; i < intervals.size(); ++i)\n",
        "        {\n",
        "            if (ans.back()[1] < intervals[i][0])\n",
        "                ans.push_back(intervals[i]);\n",
        "            else\n",
        "                ans.back()[1] = max(ans.back()[1], intervals[i][1]);\n",
        "        }\n",
        "        \n",
        "        return ans;\n",
        "    }\n",
        "};\n",
        "```\n",
        "```\n",
        "Runtime: 68 ms, faster than 32.24% of C++ online submissions for Merge Intervals.\n",
        "Memory Usage: 19 MB, less than 66.45% of C++ online submissions for Merge Intervals.\n",
        "```"
      ],
      "metadata": {
        "id": "fckSsBqmdMPS"
      }
    }
  ]
}